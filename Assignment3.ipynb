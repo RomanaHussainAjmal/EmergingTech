{
 "cells": [
  {
   "cell_type": "markdown",
   "id": "f4bc91d8-c499-40c3-8c9a-bcab116016f0",
   "metadata": {
    "jp-MarkdownHeadingCollapsed": true,
    "tags": []
   },
   "source": [
    "#  Stock purchase recommendations with Machine Learning - using TPOT\n",
    "\n",
    "### Project : \n",
    "The objective is to create a trading suggestion tool for stock buying. The investigation will examine how to incorporate technical analysis into historical stock data as an input to machine learning systems. The information is prepared so that a classification algorithm can determine whether or not a stock should be bought on a certain day.\n",
    "\n",
    "### Strategy : \n",
    "The TPOT pipeline_optimizer variable may be used to automatically find the optimal collection of hyperparameters for a classification algorithm trained on a given dataset of stock prices in terms of stock prices.\n",
    "To determine whether a stock's price will rise or fall in the future, TPOT is used to optimise the hyperparameters of a decision tree classifier or a random forest classifier trained on historical stock price data. In order to discover the best settings that maximise the F1 score, a metric of the classifier's accuracy and balance between precision and recall, the pipeline_optimizer would automatically search through various combinations of hyperparameters.\n",
    "\n",
    "Overall, the TPOTClassifier is a potent tool for automating the hyperparameter tuning process, which may help data scientists and traders who wish to create precise models for forecasting stock prices save time and effort.\n",
    "\n",
    "### Intended Audience:\n",
    "For people or organisations interested in forecasting future stock prices based on previous data, stock price detection would be most helpful.\n",
    "Numerous individuals, such as traders, investors, financial analysts, and data scientists that work in the finance sector, might fall under this category. A financial analyst would use a TPOT model to forecast the performance of a portfolio of stocks, while a trader might use one to decide whether to buy or sell a stock based on anticipated price changes.\n",
    "\n",
    "### Challenges:\n",
    "One must select an appropriate time frame, specify the target variable and features, label the data, divide it into training and validation sets, balance the data, preprocess the data, train and evaluate the model, and test it on new data in order to create a labelled dataset for training a supervised machine learning model from price action. Being meticulous and precise while labelling the data is crucial since the quality of your labelled dataset determines how well your machine learning model performs.\n",
    "And thus we are refrencing data from https://github.com/Lindstaedt/Stock-recommendation-with-ML which has extensive data engineering done to create a labelled dataset.\n",
    "\n",
    "\n",
    "### Instructiosn to construct pipeline :\n",
    "The general stages for building a pipeline utilising TPOT stock data are as follows:\n",
    "1) load and Separate the target variable from the features and divide the data into training and testing sets to prepare it for training:\n",
    "2) Install TPOT and create a pipeline using TPOTClassifier or TPOTRegressor\n",
    "3) For a classification issue with the following parameters, we are utilising TPOTClassifier: generations: The quantity of optimisation iterations. \n",
    "    Number of pipes to keep in each generation, measured in population_size.\n",
    "    Cross-validation folds: The quantity to employ during optimisation.\n",
    "    scoring: During optimisation, employ the scoring function. In this illustration, we're utilising the F1 score.\n",
    "    Random_state: Seed value to guarantee consistency of the outcomes.\n",
    "    Verbosity: The amount of language used during optimisation. This example makes extensive use of language.\n",
    "    Number of parallel jobs to be executed during optimisation, n_jobs. We are utilising every CPU core that is available in this case.\n",
    "\n",
    "4) Following pipeline optimisation, the most effective pipeline may be used to generate predictions on the test set\n",
    "5) Then, measures like accuracy, precision, recall, F1 score, mean absolute error, mean squared error, and R-squared may be used to assess how well the pipeline is doing. To calculate these measures, one can use the scikit-learn metrics module."
   ]
  },
  {
   "cell_type": "markdown",
   "id": "a5483979-04fd-462b-9792-8d4e890db698",
   "metadata": {},
   "source": [
    "# Problem Statement\n",
    "The Covid epidemic caused a sharp market decrease that sparked a recession. Currently, we are trying to determine how badly our economy has been harmed. Stocks often endure a large and protracted decrease in value during a bear market. Numerous causes, including a sluggish economy, increased unemployment, and falling business earnings, contribute to this. Stocks often perform differently in a bear market than they do in a bull market, which is marked by price increases and investor confidence.  We are projecting the stock price in our prototype, and based on the success of our model, we will be able to determine the market's present profitability, which will help us comprehend the current recession."
   ]
  },
  {
   "cell_type": "markdown",
   "id": "37026b0d-c4f5-48f4-af81-f1912e38e832",
   "metadata": {},
   "source": [
    "# Python Code\n",
    "\n",
    "Code has to be working and must meet standards; it must be structured (distributed into sections) and commented/documented\n",
    "Your code must properly outline details like: what data are you using, are you cleaning your data (if yes, how), where you are fitting the data into the model, how are you creating test/training sets, where are you formulating results? "
   ]
  },
  {
   "cell_type": "code",
   "execution_count": 4,
   "id": "f5dfb69e-f909-40ec-a6ce-5318dbf1bcb4",
   "metadata": {
    "ExecuteTime": {
     "end_time": "2019-04-28T17:48:39.863585Z",
     "start_time": "2019-04-28T17:48:39.856092Z"
    }
   },
   "outputs": [],
   "source": [
    "import pandas as pd\n",
    "import numpy as np\n",
    "\n",
    "import matplotlib.pyplot as plt\n",
    "from tqdm import tqdm, tqdm_notebook # progress bar\n",
    "import fastparquet\n",
    "import pickle\n",
    "\n",
    "from sklearn.pipeline import Pipeline\n",
    "from sklearn.metrics import classification_report\n",
    "from sklearn.metrics import confusion_matrix\n",
    "from sklearn.metrics import accuracy_score\n",
    "from sklearn.metrics import fbeta_score\n",
    "from sklearn.metrics import make_scorer\n",
    "from sklearn.model_selection import GridSearchCV\n",
    "from sklearn.model_selection import TimeSeriesSplit\n",
    "from sklearn.model_selection import RandomizedSearchCV\n",
    "from sklearn.preprocessing import StandardScaler\n",
    "import seaborn as sns\n",
    "from sklearn.ensemble import RandomForestClassifier\n",
    "from sklearn.datasets import make_classification\n",
    "from sklearn.model_selection import train_test_split, GridSearchCV\n",
    "import matplotlib.pyplot as plt"
   ]
  },
  {
   "cell_type": "code",
   "execution_count": 5,
   "id": "f4b6f307-9de6-4654-a39f-582e84bdad34",
   "metadata": {
    "ExecuteTime": {
     "end_time": "2019-04-28T17:48:39.887593Z",
     "start_time": "2019-04-28T17:48:39.866593Z"
    }
   },
   "outputs": [],
   "source": [
    "pd.set_option('display.max_columns', 1500)"
   ]
  },
  {
   "cell_type": "code",
   "execution_count": 8,
   "id": "bf4b533c-7b09-4f0a-9442-16eec9b374df",
   "metadata": {},
   "outputs": [
    {
     "data": {
      "text/html": [
       "<div>\n",
       "<style scoped>\n",
       "    .dataframe tbody tr th:only-of-type {\n",
       "        vertical-align: middle;\n",
       "    }\n",
       "\n",
       "    .dataframe tbody tr th {\n",
       "        vertical-align: top;\n",
       "    }\n",
       "\n",
       "    .dataframe thead th {\n",
       "        text-align: right;\n",
       "    }\n",
       "</style>\n",
       "<table border=\"1\" class=\"dataframe\">\n",
       "  <thead>\n",
       "    <tr style=\"text-align: right;\">\n",
       "      <th></th>\n",
       "      <th>Date</th>\n",
       "      <th>Low</th>\n",
       "      <th>Open</th>\n",
       "      <th>Volume</th>\n",
       "      <th>High</th>\n",
       "      <th>Close</th>\n",
       "      <th>Adjusted Close</th>\n",
       "    </tr>\n",
       "  </thead>\n",
       "  <tbody>\n",
       "    <tr>\n",
       "      <th>0</th>\n",
       "      <td>18-11-1999</td>\n",
       "      <td>28.612303</td>\n",
       "      <td>32.546494</td>\n",
       "      <td>62546380</td>\n",
       "      <td>35.765381</td>\n",
       "      <td>31.473534</td>\n",
       "      <td>27.066582</td>\n",
       "    </tr>\n",
       "    <tr>\n",
       "      <th>1</th>\n",
       "      <td>19-11-1999</td>\n",
       "      <td>28.478184</td>\n",
       "      <td>30.713518</td>\n",
       "      <td>15234146</td>\n",
       "      <td>30.758226</td>\n",
       "      <td>28.880545</td>\n",
       "      <td>24.836662</td>\n",
       "    </tr>\n",
       "    <tr>\n",
       "      <th>2</th>\n",
       "      <td>22-11-1999</td>\n",
       "      <td>28.657009</td>\n",
       "      <td>29.551144</td>\n",
       "      <td>6577870</td>\n",
       "      <td>31.473534</td>\n",
       "      <td>31.473534</td>\n",
       "      <td>27.066582</td>\n",
       "    </tr>\n",
       "    <tr>\n",
       "      <th>3</th>\n",
       "      <td>23-11-1999</td>\n",
       "      <td>28.612303</td>\n",
       "      <td>30.400572</td>\n",
       "      <td>5975611</td>\n",
       "      <td>31.205294</td>\n",
       "      <td>28.612303</td>\n",
       "      <td>24.605980</td>\n",
       "    </tr>\n",
       "    <tr>\n",
       "      <th>4</th>\n",
       "      <td>24-11-1999</td>\n",
       "      <td>28.612303</td>\n",
       "      <td>28.701717</td>\n",
       "      <td>4843231</td>\n",
       "      <td>29.998213</td>\n",
       "      <td>29.372318</td>\n",
       "      <td>25.259573</td>\n",
       "    </tr>\n",
       "  </tbody>\n",
       "</table>\n",
       "</div>"
      ],
      "text/plain": [
       "         Date        Low       Open    Volume       High      Close  \\\n",
       "0  18-11-1999  28.612303  32.546494  62546380  35.765381  31.473534   \n",
       "1  19-11-1999  28.478184  30.713518  15234146  30.758226  28.880545   \n",
       "2  22-11-1999  28.657009  29.551144   6577870  31.473534  31.473534   \n",
       "3  23-11-1999  28.612303  30.400572   5975611  31.205294  28.612303   \n",
       "4  24-11-1999  28.612303  28.701717   4843231  29.998213  29.372318   \n",
       "\n",
       "   Adjusted Close  \n",
       "0       27.066582  \n",
       "1       24.836662  \n",
       "2       27.066582  \n",
       "3       24.605980  \n",
       "4       25.259573  "
      ]
     },
     "execution_count": 8,
     "metadata": {},
     "output_type": "execute_result"
    }
   ],
   "source": [
    "df = pd.read_csv('data/stock-data.csv')\n",
    "df.head()"
   ]
  },
  {
   "cell_type": "code",
   "execution_count": null,
   "id": "29f136dd-02d3-4e98-b1ff-951e8f47c0fa",
   "metadata": {
    "id": "xWDRP5pfRUbC"
   },
   "outputs": [],
   "source": [
    "pd.set_option('display.max_columns', 1500)"
   ]
  },
  {
   "cell_type": "markdown",
   "id": "1c49e92f-c1b1-4d1c-8dff-219bb6911446",
   "metadata": {},
   "source": [
    "To create a labelled dataset for training a supervised machine learning model from price action, one must choose an appropriate time frame, specify the target variable and features, label the data, divide it into training and validation sets, balance the data, preprocess the data, train and evaluate the model, and test it on new data. Being cautious and exact while labelling the data is essential since the effectiveness of your machine learning model depends on the quality of your labelled dataset. Because of this, we are reusing data from https://github.com/Lindstaedt/Stock-recommendation-with-ML, which has undergone substantial data engineering to produce a tagged dataset which is loaded below"
   ]
  },
  {
   "cell_type": "markdown",
   "id": "f8fede23-a493-4328-810b-ce713e4125a0",
   "metadata": {
    "id": "ldeIO4pVRUbC"
   },
   "source": [
    "## Load Training and Test Data"
   ]
  },
  {
   "cell_type": "code",
   "execution_count": null,
   "id": "44e6aafc-612d-4a19-866f-40363d4d0d3e",
   "metadata": {
    "id": "DkbonYfVRUbC",
    "outputId": "81dc99b6-efed-4453-9c1b-7b57f71d796f"
   },
   "outputs": [
    {
     "data": {
      "text/plain": [
       "((100, 693), (100, 693), (100,), (100,))"
      ]
     },
     "execution_count": 10,
     "metadata": {},
     "output_type": "execute_result"
    }
   ],
   "source": [
    "# load the training and test datae from feature engineering step:\n",
    "X_train = fastparquet.ParquetFile('data/processed/X_train.parq').to_pandas().head(100)\n",
    "X_test = fastparquet.ParquetFile('data/processed/X_test.parq').to_pandas().head(100)\n",
    "y_train = pickle.load(open('data/processed/y_train.pkl', 'rb')).head(100)\n",
    "y_test = pickle.load(open('data/processed/y_test.pkl', 'rb')).head(100)\n",
    "\n",
    "X_train.shape, X_test.shape, y_train.shape, y_test.shape"
   ]
  },
  {
   "cell_type": "code",
   "execution_count": 4,
   "id": "e9c7250c-c85b-4406-bc97-01bd56f94fb8",
   "metadata": {},
   "outputs": [
    {
     "data": {
      "text/html": [
       "<div>\n",
       "<style scoped>\n",
       "    .dataframe tbody tr th:only-of-type {\n",
       "        vertical-align: middle;\n",
       "    }\n",
       "\n",
       "    .dataframe tbody tr th {\n",
       "        vertical-align: top;\n",
       "    }\n",
       "\n",
       "    .dataframe thead th {\n",
       "        text-align: right;\n",
       "    }\n",
       "</style>\n",
       "<table border=\"1\" class=\"dataframe\">\n",
       "  <thead>\n",
       "    <tr style=\"text-align: right;\">\n",
       "      <th></th>\n",
       "      <th>AdjVolume-0</th>\n",
       "      <th>AdjVolume-1</th>\n",
       "      <th>AdjVolume-2</th>\n",
       "      <th>AdjVolume-3</th>\n",
       "      <th>AdjVolume-4</th>\n",
       "      <th>AdjVolume-5</th>\n",
       "      <th>AdjVolume-6</th>\n",
       "      <th>AdjVolume-7</th>\n",
       "      <th>AdjVolume-8</th>\n",
       "      <th>AdjVolume-9</th>\n",
       "      <th>...</th>\n",
       "      <th>weekday</th>\n",
       "      <th>day</th>\n",
       "      <th>AAPL.US</th>\n",
       "      <th>ABBV.US</th>\n",
       "      <th>AMZN.US</th>\n",
       "      <th>CSCO.US</th>\n",
       "      <th>GE.US</th>\n",
       "      <th>INTC.US</th>\n",
       "      <th>MSFT.US</th>\n",
       "      <th>NFLX.US</th>\n",
       "    </tr>\n",
       "    <tr>\n",
       "      <th>Date</th>\n",
       "      <th></th>\n",
       "      <th></th>\n",
       "      <th></th>\n",
       "      <th></th>\n",
       "      <th></th>\n",
       "      <th></th>\n",
       "      <th></th>\n",
       "      <th></th>\n",
       "      <th></th>\n",
       "      <th></th>\n",
       "      <th></th>\n",
       "      <th></th>\n",
       "      <th></th>\n",
       "      <th></th>\n",
       "      <th></th>\n",
       "      <th></th>\n",
       "      <th></th>\n",
       "      <th></th>\n",
       "      <th></th>\n",
       "      <th></th>\n",
       "      <th></th>\n",
       "    </tr>\n",
       "  </thead>\n",
       "  <tbody>\n",
       "    <tr>\n",
       "      <th>2017-05-10</th>\n",
       "      <td>1.0</td>\n",
       "      <td>0.855512</td>\n",
       "      <td>0.860082</td>\n",
       "      <td>0.885949</td>\n",
       "      <td>0.822510</td>\n",
       "      <td>0.968459</td>\n",
       "      <td>0.814462</td>\n",
       "      <td>0.889968</td>\n",
       "      <td>1.065802</td>\n",
       "      <td>2.269711</td>\n",
       "      <td>...</td>\n",
       "      <td>2</td>\n",
       "      <td>10</td>\n",
       "      <td>0</td>\n",
       "      <td>1</td>\n",
       "      <td>0</td>\n",
       "      <td>0</td>\n",
       "      <td>0</td>\n",
       "      <td>0</td>\n",
       "      <td>0</td>\n",
       "      <td>0</td>\n",
       "    </tr>\n",
       "    <tr>\n",
       "      <th>2017-05-10</th>\n",
       "      <td>1.0</td>\n",
       "      <td>1.066204</td>\n",
       "      <td>0.762742</td>\n",
       "      <td>0.850528</td>\n",
       "      <td>0.791760</td>\n",
       "      <td>0.827486</td>\n",
       "      <td>0.821882</td>\n",
       "      <td>0.769241</td>\n",
       "      <td>1.147349</td>\n",
       "      <td>1.519654</td>\n",
       "      <td>...</td>\n",
       "      <td>2</td>\n",
       "      <td>10</td>\n",
       "      <td>0</td>\n",
       "      <td>0</td>\n",
       "      <td>0</td>\n",
       "      <td>1</td>\n",
       "      <td>0</td>\n",
       "      <td>0</td>\n",
       "      <td>0</td>\n",
       "      <td>0</td>\n",
       "    </tr>\n",
       "    <tr>\n",
       "      <th>2017-05-10</th>\n",
       "      <td>1.0</td>\n",
       "      <td>1.400148</td>\n",
       "      <td>1.883068</td>\n",
       "      <td>1.043509</td>\n",
       "      <td>0.906711</td>\n",
       "      <td>1.758551</td>\n",
       "      <td>1.548577</td>\n",
       "      <td>1.278464</td>\n",
       "      <td>0.788735</td>\n",
       "      <td>0.543387</td>\n",
       "      <td>...</td>\n",
       "      <td>2</td>\n",
       "      <td>10</td>\n",
       "      <td>1</td>\n",
       "      <td>0</td>\n",
       "      <td>0</td>\n",
       "      <td>0</td>\n",
       "      <td>0</td>\n",
       "      <td>0</td>\n",
       "      <td>0</td>\n",
       "      <td>0</td>\n",
       "    </tr>\n",
       "    <tr>\n",
       "      <th>2017-05-10</th>\n",
       "      <td>1.0</td>\n",
       "      <td>1.550622</td>\n",
       "      <td>1.617839</td>\n",
       "      <td>1.371090</td>\n",
       "      <td>1.142760</td>\n",
       "      <td>1.701144</td>\n",
       "      <td>1.824343</td>\n",
       "      <td>2.599446</td>\n",
       "      <td>3.493653</td>\n",
       "      <td>2.042627</td>\n",
       "      <td>...</td>\n",
       "      <td>2</td>\n",
       "      <td>10</td>\n",
       "      <td>0</td>\n",
       "      <td>0</td>\n",
       "      <td>1</td>\n",
       "      <td>0</td>\n",
       "      <td>0</td>\n",
       "      <td>0</td>\n",
       "      <td>0</td>\n",
       "      <td>0</td>\n",
       "    </tr>\n",
       "    <tr>\n",
       "      <th>2017-05-10</th>\n",
       "      <td>1.0</td>\n",
       "      <td>1.250876</td>\n",
       "      <td>1.033853</td>\n",
       "      <td>1.058335</td>\n",
       "      <td>1.200615</td>\n",
       "      <td>1.609998</td>\n",
       "      <td>1.289137</td>\n",
       "      <td>1.754546</td>\n",
       "      <td>2.182534</td>\n",
       "      <td>1.805805</td>\n",
       "      <td>...</td>\n",
       "      <td>2</td>\n",
       "      <td>10</td>\n",
       "      <td>0</td>\n",
       "      <td>0</td>\n",
       "      <td>0</td>\n",
       "      <td>0</td>\n",
       "      <td>0</td>\n",
       "      <td>0</td>\n",
       "      <td>1</td>\n",
       "      <td>0</td>\n",
       "    </tr>\n",
       "  </tbody>\n",
       "</table>\n",
       "<p>5 rows × 693 columns</p>\n",
       "</div>"
      ],
      "text/plain": [
       "            AdjVolume-0  AdjVolume-1  AdjVolume-2  AdjVolume-3  AdjVolume-4  \\\n",
       "Date                                                                          \n",
       "2017-05-10          1.0     0.855512     0.860082     0.885949     0.822510   \n",
       "2017-05-10          1.0     1.066204     0.762742     0.850528     0.791760   \n",
       "2017-05-10          1.0     1.400148     1.883068     1.043509     0.906711   \n",
       "2017-05-10          1.0     1.550622     1.617839     1.371090     1.142760   \n",
       "2017-05-10          1.0     1.250876     1.033853     1.058335     1.200615   \n",
       "\n",
       "            AdjVolume-5  AdjVolume-6  AdjVolume-7  AdjVolume-8  AdjVolume-9  \\\n",
       "Date                                                                          \n",
       "2017-05-10     0.968459     0.814462     0.889968     1.065802     2.269711   \n",
       "2017-05-10     0.827486     0.821882     0.769241     1.147349     1.519654   \n",
       "2017-05-10     1.758551     1.548577     1.278464     0.788735     0.543387   \n",
       "2017-05-10     1.701144     1.824343     2.599446     3.493653     2.042627   \n",
       "2017-05-10     1.609998     1.289137     1.754546     2.182534     1.805805   \n",
       "\n",
       "            ...  weekday  day  AAPL.US  ABBV.US  AMZN.US  CSCO.US  GE.US  \\\n",
       "Date        ...                                                            \n",
       "2017-05-10  ...        2   10        0        1        0        0      0   \n",
       "2017-05-10  ...        2   10        0        0        0        1      0   \n",
       "2017-05-10  ...        2   10        1        0        0        0      0   \n",
       "2017-05-10  ...        2   10        0        0        1        0      0   \n",
       "2017-05-10  ...        2   10        0        0        0        0      0   \n",
       "\n",
       "            INTC.US  MSFT.US  NFLX.US  \n",
       "Date                                   \n",
       "2017-05-10        0        0        0  \n",
       "2017-05-10        0        0        0  \n",
       "2017-05-10        0        0        0  \n",
       "2017-05-10        0        0        0  \n",
       "2017-05-10        0        1        0  \n",
       "\n",
       "[5 rows x 693 columns]"
      ]
     },
     "execution_count": 4,
     "metadata": {},
     "output_type": "execute_result"
    }
   ],
   "source": [
    "X_train.tail()"
   ]
  },
  {
   "cell_type": "markdown",
   "id": "63fed494-27b1-4617-b313-50d06bc86b83",
   "metadata": {},
   "source": [
    "The stock's adjusted volume for the last 10 trading days is shown in the columns AdjVolume-0 through AdjVolume-9, where AdjVolume-0 indicates the adjusted volume for the most recent trading day and AdjVolume-9 represents the adjusted volume for the previous 10 trading days. Technical indicators like adjusted volume, which accounts for things like stock splits and dividends to give a more realistic picture of trading volume.For each data point in the dataset, the columns weekday and day show the day of the week and the day of the month, respectively. The adjusted closing prices of the listed stocks on the appropriate trading days are shown in the columns AAPL.US, ABBV.US, AMZN.US, CSCO.US, GE.US, INTC.US, MSFT.US, and NFLX.US. These stocks are the ones that the stock recommendation system that was developed using this dataset recommends."
   ]
  },
  {
   "cell_type": "markdown",
   "id": "4aa6fd40-a57a-4716-b705-0b9a7e59e0d1",
   "metadata": {},
   "source": [
    "We first started by choosing RandomForestClassifier Model as follows"
   ]
  },
  {
   "cell_type": "code",
   "execution_count": 6,
   "id": "b69c329e-e2ba-45a1-8c29-d9e9d519484c",
   "metadata": {
    "colab": {
     "base_uri": "https://localhost:8080/"
    },
    "id": "90A6ZClhRs1j",
    "outputId": "958f4a4b-6e8f-41c0-e5c9-1eab9ee3b317"
   },
   "outputs": [
    {
     "name": "stdout",
     "output_type": "stream",
     "text": [
      "Best Hyperparameters: {'max_depth': 5, 'min_samples_leaf': 1, 'min_samples_split': 2, 'n_estimators': 50}\n",
      "Best Accuracy: 0.8300000000000001\n",
      "Best Model Accuracy: 0.59\n"
     ]
    }
   ],
   "source": [
    "\n",
    "# create a random forest classifier\n",
    "rf_model = RandomForestClassifier(random_state=42)\n",
    "\n",
    "# define the parameter grid for grid search\n",
    "param_grid = {\n",
    "    'n_estimators': [50, 100, 200],\n",
    "    'max_depth': [3, 5, 7, 9],\n",
    "    'min_samples_leaf': [1, 2, 4],\n",
    "    'min_samples_split': [2, 5, 10]\n",
    "}\n",
    "\n",
    "# create a grid search object with 5-fold cross-validation\n",
    "grid_search = GridSearchCV(rf_model, param_grid, cv=5, n_jobs=-1)\n",
    "\n",
    "# fit the grid search object to the training data\n",
    "grid_search.fit(X_train, y_train)\n",
    "\n",
    "# print the best hyperparameters and the corresponding accuracy\n",
    "print(\"Best Hyperparameters:\", grid_search.best_params_)\n",
    "print(\"Best Accuracy:\", grid_search.best_score_)\n",
    "\n",
    "# make predictions on the testing data using the best estimator found by grid search\n",
    "best_model = grid_search.best_estimator_\n",
    "y_pred = best_model.predict(X_test)\n",
    "\n",
    "# calculate the accuracy of the best model\n",
    "accuracy = best_model.score(X_test, y_test)\n",
    "\n",
    "print(\"Best Model Accuracy:\", accuracy)\n"
   ]
  },
  {
   "cell_type": "code",
   "execution_count": 7,
   "id": "4a4a2369-4fd4-4228-a5e7-a38834c9bd41",
   "metadata": {
    "colab": {
     "base_uri": "https://localhost:8080/"
    },
    "id": "LcsJIHe8Rst2",
    "outputId": "a0c492dd-7bfc-4ab4-b9fa-27a9f24a4bcc"
   },
   "outputs": [
    {
     "name": "stdout",
     "output_type": "stream",
     "text": [
      "              precision    recall  f1-score   support\n",
      "\n",
      "       False       0.67      0.74      0.70        65\n",
      "        True       0.39      0.31      0.35        35\n",
      "\n",
      "    accuracy                           0.59       100\n",
      "   macro avg       0.53      0.53      0.52       100\n",
      "weighted avg       0.57      0.59      0.58       100\n",
      "\n"
     ]
    }
   ],
   "source": [
    "print(classification_report(y_test, y_pred))"
   ]
  },
  {
   "cell_type": "code",
   "execution_count": 8,
   "id": "ab3bd5f9-b9d6-4162-8c0f-70f52326f583",
   "metadata": {
    "colab": {
     "base_uri": "https://localhost:8080/"
    },
    "id": "wvfYJwuXRsn_",
    "outputId": "70d26845-6251-4395-a07c-8dee641a0ca6"
   },
   "outputs": [
    {
     "data": {
      "text/plain": [
       "0.59"
      ]
     },
     "execution_count": 8,
     "metadata": {},
     "output_type": "execute_result"
    }
   ],
   "source": [
    "accuracy_score(y_test, y_pred)"
   ]
  },
  {
   "cell_type": "code",
   "execution_count": 9,
   "id": "929c624f-3c9a-4b09-bf27-94d63a793096",
   "metadata": {
    "colab": {
     "base_uri": "https://localhost:8080/"
    },
    "id": "jOCLdYN6TrlL",
    "outputId": "c8431b96-64b2-4315-d571-0e2aee0443fa"
   },
   "outputs": [
    {
     "data": {
      "text/plain": [
       "array([[48, 17],\n",
       "       [24, 11]])"
      ]
     },
     "execution_count": 9,
     "metadata": {},
     "output_type": "execute_result"
    }
   ],
   "source": [
    "confusion_matrix(y_test, y_pred, labels=[False, True])"
   ]
  },
  {
   "cell_type": "code",
   "execution_count": 10,
   "id": "fa22cf77-d3f3-4aef-a7e1-37de8ed90346",
   "metadata": {
    "id": "CB060pZYT0uQ"
   },
   "outputs": [],
   "source": [
    "labels = [0, 1]"
   ]
  },
  {
   "cell_type": "code",
   "execution_count": 11,
   "id": "ed837637-d34e-4082-9cef-5751e0f2f60b",
   "metadata": {
    "id": "NtBlJDzST8Zk"
   },
   "outputs": [],
   "source": [
    "cm = confusion_matrix(y_test, y_pred, labels=labels)"
   ]
  },
  {
   "cell_type": "code",
   "execution_count": 14,
   "id": "0f9a373f-01ce-4984-a85a-20dd56422f75",
   "metadata": {
    "colab": {
     "base_uri": "https://localhost:8080/",
     "height": 472
    },
    "id": "HN-zJ6ztT3ZH",
    "outputId": "020f27e0-617c-4287-f0aa-5dbcb0100b82"
   },
   "outputs": [
    {
     "data": {
      "image/png": "[encoded data removed]",
      "text/plain": [
       "<Figure size 640x480 with 2 Axes>"
      ]
     },
     "metadata": {},
     "output_type": "display_data"
    }
   ],
   "source": [
    "# plot confusion matrix as heatmap\n",
    "sns.heatmap(cm, annot=True, cmap=\"Blues\", xticklabels=labels, yticklabels=labels)\n",
    "\n",
    "# set plot labels\n",
    "plt.xlabel(\"Predicted labels\")\n",
    "plt.ylabel(\"True labels\")\n",
    "plt.title(\"Confusion Matrix\")\n",
    "\n",
    "# show plot\n",
    "plt.show()"
   ]
  },
  {
   "cell_type": "markdown",
   "id": "df103029-813e-4805-9dae-563aabc859f0",
   "metadata": {},
   "source": [
    "# Machine Learning Predictions and outcomes :\n",
    "\n",
    "The confusion matrix's values are as follows:\n",
    "\n",
    "48 (True Positive): The number of samples for which the model's predictions of positivity were accurate.\n",
    "17 (False Negative): The number of samples that the model predicted as negative but were in fact positive.\n",
    "24 (False Positive): The number of samples that the model predicted as positive but were actually negative.\n",
    "11 (True Negative): The number of samples for which the model's prediction of a negative result was accurate.\n",
    "The confusion matrix demonstrates that, overall, the model correctly predicted 48 positive samples (True Positive) and 11 negative samples (True Negative), but that it incorrectly predicted 17 positive samples as negative (False Negative) and 24 negative samples as positive (False Positive)."
   ]
  },
  {
   "cell_type": "markdown",
   "id": "47337425-8dab-4874-8f71-078e4988a787",
   "metadata": {},
   "source": [
    "The TPOTClassifier is a machine learning tool that automatically searches for the best pipeline to solve a specific classification problem using genetic programming. Each parameter in this snippet of code accomplishes the following:\n",
    "\n",
    "generations: How many iterations the genetic programming algorithm will go through. It is set to 4 in this instance.\n",
    "The number of people to include in each generation of the genetic programming algorithm is called the population_size. It is currently set to 15.\n",
    "cv: How many cross-validation folds should be used to assess each pipeline. It is set to 4 in this instance.\n",
    "scoring: The scoring metric to use in assessing each pipeline's performance. It is currently set to \"f1,\" which represents the F1 score.\n",
    "Random_state: The genetic programming algorithm's random seed. It is currently set to 42.\n",
    "Verbosity: The amount of information the genetic programming algorithm should print out. Since it is set to 2 in this instance, information regarding the generations and the evaluation pipelines will be printed.\n",
    "The number of parallel processing CPU cores to use for the genetic programming algorithm is designated as n_jobs. It is set to -1 in this instance, indicating that all cores will be utilised.\n"
   ]
  },
  {
   "cell_type": "markdown",
   "id": "7ecb9f25-0403-4421-a812-7c540bac369a",
   "metadata": {},
   "source": [
    "### Based on prototype defined in second assigment"
   ]
  },
  {
   "cell_type": "code",
   "execution_count": 5,
   "id": "6cb1bb92-b894-4060-a28a-0b59e62526f8",
   "metadata": {
    "id": "73L3NW0ZRUbC"
   },
   "outputs": [],
   "source": [
    "pipeline_optimizer = TPOTClassifier(generations=4, population_size=15, cv=4, scoring='f1',\n",
    "                                    random_state=42, verbosity=2, n_jobs=-1)"
   ]
  },
  {
   "cell_type": "code",
   "execution_count": 6,
   "id": "cae5c1cc-5e05-482a-a37a-3e9c525cb4ca",
   "metadata": {
    "colab": {
     "base_uri": "https://localhost:8080/",
     "height": 265,
     "referenced_widgets": [
      "e2f5a101190e4754b467509008fb0ea9",
      "767b516911c640deb466d9a852a778e4",
      "5ab26bd02aad415385f2ca33f1da0a06",
      "955f44c7981848e7b19eeb688d79ec3f",
      "b03062ec124e437bb8b6277452ca8810",
      "0c31fef0935a4697a726a9e198c84cce",
      "a5ae5cda200d46d19e9edb118e381391",
      "373d1f4d3b9b4ba79d3b0fe6e2f095f7",
      "7034a1b8849147ffa8bb6f8a462ca5ae",
      "081ba7aa71e14781919787339fba6720",
      "88cc72a84f9a47aa8a24330a8981b7bb"
     ]
    },
    "id": "tUSoy-n9lgsz",
    "outputId": "e2bd5e2c-c1a6-4cea-f55a-90e196ff4212"
   },
   "outputs": [
    {
     "data": {
      "application/vnd.jupyter.widget-view+json": {
       "model_id": "e2f5a101190e4754b467509008fb0ea9",
       "version_major": 2,
       "version_minor": 0
      },
      "text/plain": [
       "Optimization Progress:   0%|          | 0/75 [00:00<?, ?pipeline/s]"
      ]
     },
     "metadata": {},
     "output_type": "display_data"
    },
    {
     "name": "stdout",
     "output_type": "stream",
     "text": [
      "\n",
      "Generation 1 - Current best internal CV score: 0.7209030100334448\n",
      "\n",
      "Generation 2 - Current best internal CV score: 0.7209030100334448\n",
      "\n",
      "Generation 3 - Current best internal CV score: 0.7209030100334448\n",
      "\n",
      "Generation 4 - Current best internal CV score: 0.7209030100334448\n",
      "\n",
      "Best pipeline: DecisionTreeClassifier(input_matrix, criterion=gini, max_depth=4, min_samples_leaf=19, min_samples_split=20)\n"
     ]
    },
    {
     "data": {
      "text/html": [
       "<style>#sk-container-id-1 {color: black;background-color: white;}#sk-container-id-1 pre{padding: 0;}#sk-container-id-1 div.sk-toggleable {background-color: white;}#sk-container-id-1 label.sk-toggleable__label {cursor: pointer;display: block;width: 100%;margin-bottom: 0;padding: 0.3em;box-sizing: border-box;text-align: center;}#sk-container-id-1 label.sk-toggleable__label-arrow:before {content: \"▸\";float: left;margin-right: 0.25em;color: #696969;}#sk-container-id-1 label.sk-toggleable__label-arrow:hover:before {color: black;}#sk-container-id-1 div.sk-estimator:hover label.sk-toggleable__label-arrow:before {color: black;}#sk-container-id-1 div.sk-toggleable__content {max-height: 0;max-width: 0;overflow: hidden;text-align: left;background-color: #f0f8ff;}#sk-container-id-1 div.sk-toggleable__content pre {margin: 0.2em;color: black;border-radius: 0.25em;background-color: #f0f8ff;}#sk-container-id-1 input.sk-toggleable__control:checked~div.sk-toggleable__content {max-height: 200px;max-width: 100%;overflow: auto;}#sk-container-id-1 input.sk-toggleable__control:checked~label.sk-toggleable__label-arrow:before {content: \"▾\";}#sk-container-id-1 div.sk-estimator input.sk-toggleable__control:checked~label.sk-toggleable__label {background-color: #d4ebff;}#sk-container-id-1 div.sk-label input.sk-toggleable__control:checked~label.sk-toggleable__label {background-color: #d4ebff;}#sk-container-id-1 input.sk-hidden--visually {border: 0;clip: rect(1px 1px 1px 1px);clip: rect(1px, 1px, 1px, 1px);height: 1px;margin: -1px;overflow: hidden;padding: 0;position: absolute;width: 1px;}#sk-container-id-1 div.sk-estimator {font-family: monospace;background-color: #f0f8ff;border: 1px dotted black;border-radius: 0.25em;box-sizing: border-box;margin-bottom: 0.5em;}#sk-container-id-1 div.sk-estimator:hover {background-color: #d4ebff;}#sk-container-id-1 div.sk-parallel-item::after {content: \"\";width: 100%;border-bottom: 1px solid gray;flex-grow: 1;}#sk-container-id-1 div.sk-label:hover label.sk-toggleable__label {background-color: #d4ebff;}#sk-container-id-1 div.sk-serial::before {content: \"\";position: absolute;border-left: 1px solid gray;box-sizing: border-box;top: 0;bottom: 0;left: 50%;z-index: 0;}#sk-container-id-1 div.sk-serial {display: flex;flex-direction: column;align-items: center;background-color: white;padding-right: 0.2em;padding-left: 0.2em;position: relative;}#sk-container-id-1 div.sk-item {position: relative;z-index: 1;}#sk-container-id-1 div.sk-parallel {display: flex;align-items: stretch;justify-content: center;background-color: white;position: relative;}#sk-container-id-1 div.sk-item::before, #sk-container-id-1 div.sk-parallel-item::before {content: \"\";position: absolute;border-left: 1px solid gray;box-sizing: border-box;top: 0;bottom: 0;left: 50%;z-index: -1;}#sk-container-id-1 div.sk-parallel-item {display: flex;flex-direction: column;z-index: 1;position: relative;background-color: white;}#sk-container-id-1 div.sk-parallel-item:first-child::after {align-self: flex-end;width: 50%;}#sk-container-id-1 div.sk-parallel-item:last-child::after {align-self: flex-start;width: 50%;}#sk-container-id-1 div.sk-parallel-item:only-child::after {width: 0;}#sk-container-id-1 div.sk-dashed-wrapped {border: 1px dashed gray;margin: 0 0.4em 0.5em 0.4em;box-sizing: border-box;padding-bottom: 0.4em;background-color: white;}#sk-container-id-1 div.sk-label label {font-family: monospace;font-weight: bold;display: inline-block;line-height: 1.2em;}#sk-container-id-1 div.sk-label-container {text-align: center;}#sk-container-id-1 div.sk-container {/* jupyter's `normalize.less` sets `[hidden] { display: none; }` but bootstrap.min.css set `[hidden] { display: none !important; }` so we also need the `!important` here to be able to override the default hidden behavior on the sphinx rendered scikit-learn.org. See: https://github.com/scikit-learn/scikit-learn/issues/21755 */display: inline-block !important;position: relative;}#sk-container-id-1 div.sk-text-repr-fallback {display: none;}</style><div id=\"sk-container-id-1\" class=\"sk-top-container\"><div class=\"sk-text-repr-fallback\"><pre>TPOTClassifier(cv=4, generations=4, n_jobs=-1, population_size=15,\n",
       "               random_state=42, scoring=&#x27;f1&#x27;, verbosity=2)</pre><b>In a Jupyter environment, please rerun this cell to show the HTML representation or trust the notebook. <br />On GitHub, the HTML representation is unable to render, please try loading this page with nbviewer.org.</b></div><div class=\"sk-container\" hidden><div class=\"sk-item\"><div class=\"sk-estimator sk-toggleable\"><input class=\"sk-toggleable__control sk-hidden--visually\" id=\"sk-estimator-id-1\" type=\"checkbox\" checked><label for=\"sk-estimator-id-1\" class=\"sk-toggleable__label sk-toggleable__label-arrow\">TPOTClassifier</label><div class=\"sk-toggleable__content\"><pre>TPOTClassifier(cv=4, generations=4, n_jobs=-1, population_size=15,\n",
       "               random_state=42, scoring=&#x27;f1&#x27;, verbosity=2)</pre></div></div></div></div></div>"
      ],
      "text/plain": [
       "TPOTClassifier(cv=4, generations=4, n_jobs=-1, population_size=15,\n",
       "               random_state=42, scoring='f1', verbosity=2)"
      ]
     },
     "execution_count": 6,
     "metadata": {},
     "output_type": "execute_result"
    }
   ],
   "source": [
    "pipeline_optimizer.fit(X_train, y_train)"
   ]
  },
  {
   "cell_type": "markdown",
   "id": "8e52ad93-ff3a-4403-9521-5714eff3beea",
   "metadata": {},
   "source": [
    "In order to find the ideal hyperparameters to use in the TPOTClassifier pipeline optimizer, this code creates a GridSearchCV object. Each parameter's function in the param_grid dictionary is as follows:\n",
    "\n",
    "generations: How many iterations the genetic programming algorithm will go through. The grid search will be used to fine-tune this parameter.\n",
    "The number of people to include in each generation of the genetic programming algorithm is called the population_size. The grid search will be used to fine-tune this parameter.\n",
    "crossover_rate: The likelihood that a genetic programming algorithm will perform a crossover between two individuals. The grid search will be used to fine-tune this parameter.\n",
    "mutation_rate: The likelihood that a person will undergo a mutation as part of the genetic programming algorithm. The grid search will be used to fine-tune this parameter.\n",
    "\n",
    "The following parameters are input into the GridSearchCV object:\n",
    "\n",
    "the TPOTClassifier pipeline optimizer, pipeline_optimizer.\n",
    "The list of available hyperparameters is in param_grid.\n",
    "Cross-validation folds (cv): The number of folds to use when assessing each pipeline during a grid search.\n",
    "scoring: The scoring metric to use when assessing each pipeline's performance during the grid search.\n",
    "N_jobs: The number of parallel processing CPU cores to use during the grid search. It is set to -1 in this instance, indicating that all cores will be utilised.\n",
    "In order to enhance the performance of the classification model, this code's overall goal is to conduct a grid search to identify the best hyperparameters to use in the TPOTClassifier pipeline optimizer."
   ]
  },
  {
   "cell_type": "code",
   "execution_count": null,
   "id": "555083cc-5ccc-4d68-8064-4d95bf86cb5e",
   "metadata": {
    "id": "ybV8ZujSRUbD"
   },
   "outputs": [],
   "source": [
    "#This cell took a lot of time to execute and even lead our systems to crash, so we ran the simple optimizer shown in above cells\n",
    "'''\n",
    "pipeline_optimizer = TPOTClassifier(\n",
    "    generations=5,\n",
    "    population_size=20,\n",
    "    cv=5,\n",
    "    scoring='f1',\n",
    "    random_state=42,\n",
    "    verbosity=2,\n",
    "    n_jobs=-1\n",
    ")\n",
    "\n",
    "# Define the hyperparameter search space\n",
    "param_grid = {\n",
    "    'generations': [5, 10],\n",
    "    'population_size': [20, 30],\n",
    "    'crossover_rate': [0.1, 0.3],\n",
    "    'mutation_rate': [0.1, 0.3]\n",
    "}\n",
    "\n",
    "# Create a grid search object\n",
    "grid_search = GridSearchCV(\n",
    "    pipeline_optimizer,\n",
    "    param_grid,\n",
    "    cv=5,\n",
    "    scoring='f1',\n",
    "    n_jobs=-1\n",
    ")\n",
    "\n",
    "# Fit the grid search to the training data\n",
    "grid_search.fit(X_train, y_train)\n",
    "'''"
   ]
  },
  {
   "cell_type": "code",
   "execution_count": 7,
   "id": "8faaf7b6-3d05-4532-925f-a097398babe5",
   "metadata": {
    "colab": {
     "base_uri": "https://localhost:8080/"
    },
    "id": "PRRtSIBDRUbE",
    "outputId": "7a3c691a-0e8e-4757-e7e4-eb26e19f04c4"
   },
   "outputs": [
    {
     "name": "stdout",
     "output_type": "stream",
     "text": [
      "0.15384615384615383\n"
     ]
    },
    {
     "name": "stderr",
     "output_type": "stream",
     "text": [
      "/usr/local/lib/python3.9/dist-packages/sklearn/metrics/_scorer.py:794: FutureWarning: sklearn.metrics.SCORERS is deprecated and will be removed in v1.3. Please use sklearn.metrics.get_scorer_names to get a list of available scorers and sklearn.metrics.get_metric to get scorer.\n",
      "  warnings.warn(\n"
     ]
    }
   ],
   "source": [
    "print(pipeline_optimizer.score(X_test, y_test))"
   ]
  },
  {
   "cell_type": "code",
   "execution_count": 9,
   "id": "5f132451-8ca2-4f23-93ba-37512fa4d411",
   "metadata": {
    "id": "fg_ba0Q-mpKT"
   },
   "outputs": [],
   "source": [
    "y_pred = pipeline_optimizer.predict(X_test)\n"
   ]
  },
  {
   "cell_type": "code",
   "execution_count": 10,
   "id": "16048841-4e3d-4e66-8987-9028a1252d7f",
   "metadata": {
    "colab": {
     "base_uri": "https://localhost:8080/"
    },
    "id": "-mTlOXWnRUbE",
    "outputId": "acfc3f04-7013-4acd-fed2-349d0badd7d1"
   },
   "outputs": [
    {
     "name": "stdout",
     "output_type": "stream",
     "text": [
      "              precision    recall  f1-score   support\n",
      "\n",
      "       False       0.67      0.98      0.80        65\n",
      "        True       0.75      0.09      0.15        35\n",
      "\n",
      "    accuracy                           0.67       100\n",
      "   macro avg       0.71      0.54      0.47       100\n",
      "weighted avg       0.70      0.67      0.57       100\n",
      "\n"
     ]
    }
   ],
   "source": [
    "print(classification_report(y_test, y_pred))"
   ]
  },
  {
   "cell_type": "code",
   "execution_count": 11,
   "id": "287b36c9-3aca-4315-b2a1-d130d9078ee5",
   "metadata": {
    "colab": {
     "base_uri": "https://localhost:8080/"
    },
    "id": "pvhgi5ruRUbE",
    "outputId": "25bb56bd-8f04-4f47-d71b-87dd6aefc059"
   },
   "outputs": [
    {
     "data": {
      "text/plain": [
       "0.67"
      ]
     },
     "execution_count": 11,
     "metadata": {},
     "output_type": "execute_result"
    }
   ],
   "source": [
    "accuracy_score(y_test, y_pred)"
   ]
  },
  {
   "cell_type": "markdown",
   "id": "9a301320-5424-47d3-9e7f-5e3497cc1b75",
   "metadata": {},
   "source": [
    "\n",
    "#### As seen above the accuracy score for TPOT classifier is much higher than the gridserach model that we fit the data with."
   ]
  },
  {
   "cell_type": "code",
   "execution_count": 13,
   "id": "fef557ce-bb6b-4ae6-91b9-912f39f0ff58",
   "metadata": {
    "id": "6O73kogGRUbE"
   },
   "outputs": [],
   "source": [
    "cm = confusion_matrix(y_test, y_pred, labels=[False, True])"
   ]
  },
  {
   "cell_type": "code",
   "execution_count": 18,
   "id": "77ee558b-f2bb-4f69-8708-09eba113e7f9",
   "metadata": {
    "colab": {
     "base_uri": "https://localhost:8080/",
     "height": 472
    },
    "id": "HN-zJ6ztT3ZH",
    "outputId": "2594bdc4-e9d7-43b6-fe34-7a3b92bfa7d5"
   },
   "outputs": [
    {
     "data": {
      "image/png": "[encoded data removed]",
      "text/plain": [
       "<Figure size 640x480 with 2 Axes>"
      ]
     },
     "metadata": {},
     "output_type": "display_data"
    }
   ],
   "source": [
    "# plot confusion matrix as heatmap\n",
    "sns.heatmap(cm, annot=True, cmap=\"Blues\", xticklabels=[False, True], yticklabels=[False, True])\n",
    "\n",
    "# set plot labels\n",
    "plt.xlabel(\"Predicted labels\")\n",
    "plt.ylabel(\"True labels\")\n",
    "plt.title(\"Confusion Matrix\")\n",
    "\n",
    "# show plot\n",
    "plt.show()"
   ]
  },
  {
   "cell_type": "markdown",
   "id": "482d0215-b897-4537-8bda-4c1e0dffd387",
   "metadata": {},
   "source": [
    "The matrix reveals the following:\n",
    "\n",
    "It was correctly predicted that 64 situations would be negative, and they were.\n",
    "One occurrence that was expected to be negative turned out to be positive.\n",
    "32 instances that were expected to be positive turned out to be negative.\n",
    "Three occurrences that were predicted to be positive turned out to be so.\n",
    "In conclusion, the performance of a binary classification model on a test set of 100 instances is represented by this confusion matrix. A total of 67 instances—64 true negatives and 3 true positives—were correctly predicted by the model, while 33 instances—32 false negatives and 1 false positive—were incorrectly predicted."
   ]
  },
  {
   "cell_type": "markdown",
   "id": "139a78da-8e5b-417f-8c42-cd2bd51525e1",
   "metadata": {},
   "source": [
    "## Match with the research papers :\n",
    "The papers we studied were focussed on finding the best strategies to find the model that gives better accuracies when it comes to predicting stock market or recession. Finding the best machine learning model to forecast stock prices in a bear market brought on by the Covid epidemic is the stated problem. The goal is to understand the current recession and the market's current profitability using this model. Collecting pertinent data, such as historical stock prices, economic indicators, and Covid-related statistics, is the first step in achieving this goal. To make the data suitable for machine learning algorithms, it must first be cleaned, processed, and transformed. The next step is to choose and train various machine learning models using the prepared data, including neural networks, decision trees, random forests, and linear regression. Metrics like mean squared should be used to gauge each model's effectiveness."
   ]
  },
  {
   "cell_type": "markdown",
   "id": "ee356dff-8cf6-4109-9d09-1adb970e43f9",
   "metadata": {},
   "source": [
    "### References:\n",
    "<ul>\n",
    "    <li>https://github.com/Lindstaedt/Stock-recommendation-with-ML </li>\n",
    "    <li>https://scikit-learn.org/stable/</li>\n",
    "    <li>https://pandas.pydata.org/docs/</li>\n",
    "    <li>Adewumi, A. O. & Akinyelu, A. A. (2017). A survey of machine-learning and nature-inspired based credit card fraud detection techniques. International Journal of System Assurance Engineering and Management, 8(2), 937-953. https://doi.org/10.1007/s13198-016-0551-y©​</li>\n",
    "<li>\n",
    "Dhar, V. (2013). Data science and prediction. Communications of the ACM, 56(12), 64-7​</li>\n",
    "<li>\n",
    "https://doi.org/10.1145/2500499[3) Domingos, P. (2012). A few useful things to know about machine learning.Communications of the ACM, 55(10), 78-87.​</li>\n",
    "<li>\n",
    "https://doi.org/10.1145/2347736.2347755​</li>\n",
    "<li>\n",
    "“Predicting US Recessions: Financial Variables as Leading Indicators\" by T. J. Bond, R. F.GSullivan, and J. M. Willmore, The Review of Economics and Statistics (1998)[5) A policy-making model for evolutionary SME behavior during a pandemic recession supported on game theory approach Ashkan Hafezalkotob a 3, Lia. Nersesian b 1, Keyvan Fardi (2023) https://www.sciencedirect.com/science/article/pii/503608352220096397 via%3 Dihub​</li>\n",
    "<li>\n",
    "\"Machine Learning Approaches to Recession Prediction* by H. James and J. W. Popper, Journal of Banking & Finance (2003)171 https://www.kaggle.com/code/rodsaldanha/stock-prediction-pytorch/notebook​</li>\n",
    "</ul>"
   ]
  },
  {
   "cell_type": "markdown",
   "id": "45d9a7b8-e04f-4a01-b3c6-c1f3ad472c03",
   "metadata": {},
   "source": [
    "Improvements with code visualization :\n",
    "1) We will plot the preditions across latest years of data and compare both the models - Romana Hussain\n",
    "2) Performance of stocks in different time periods of recession are strong indicators, we can use these indicators to predict recession - Abhinav Sharma\n",
    "3) We can visualize the underlying causes of the recession and focus on those causes to prevent recessions in the future. - Atyender Pal Singh"
   ]
  }
 ],
 "metadata": {
  "kernelspec": {
   "display_name": "Python 3 (ipykernel)",
   "language": "python",
   "name": "python3"
  },
  "language_info": {
   "codemirror_mode": {
    "name": "ipython",
    "version": 3
   },
   "file_extension": ".py",
   "mimetype": "text/x-python",
   "name": "python",
   "nbconvert_exporter": "python",
   "pygments_lexer": "ipython3",
   "version": "3.8.8"
  }
 },
 "nbformat": 4,
 "nbformat_minor": 5
}
